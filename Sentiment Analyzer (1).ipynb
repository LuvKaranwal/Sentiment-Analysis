{
 "cells": [
  {
   "cell_type": "markdown",
   "metadata": {},
   "source": [
    "# Sentiment Analysis for textual comments and Feedbaack"
   ]
  },
  {
   "cell_type": "markdown",
   "metadata": {},
   "source": [
    "## Loading Libraries and modules"
   ]
  },
  {
   "cell_type": "code",
   "execution_count": 1,
   "metadata": {},
   "outputs": [
    {
     "name": "stderr",
     "output_type": "stream",
     "text": [
      "[nltk_data] Downloading package vader_lexicon to C:\\Users\\Love\n",
      "[nltk_data]     Karnval\\AppData\\Roaming\\nltk_data...\n",
      "[nltk_data]   Package vader_lexicon is already up-to-date!\n"
     ]
    },
    {
     "data": {
      "text/plain": [
       "True"
      ]
     },
     "execution_count": 1,
     "metadata": {},
     "output_type": "execute_result"
    }
   ],
   "source": [
    "# first, we import the relevant modules from the NLTK library\n",
    "from nltk.sentiment.vader import SentimentIntensityAnalyzer\n",
    "from nltk.tokenize import sent_tokenize, word_tokenize\n",
    "from nltk.probability import FreqDist\n",
    "import nltk\n",
    "nltk.download('vader_lexicon')"
   ]
  },
  {
   "cell_type": "markdown",
   "metadata": {},
   "source": [
    "## Input text"
   ]
  },
  {
   "cell_type": "code",
   "execution_count": 2,
   "metadata": {},
   "outputs": [],
   "source": [
    "\n",
    "## Note: The input can be dynamic easily, if we use input() function to take in the text input\n",
    "\n",
    "# the variable 'message_text' now contains the text we will analyze.\n",
    "message_text = '''Tom Sawyer is a young boy living with his Aunt Polly\n",
    "on the banks of the Mississippi River. He seems to mostenjoygetting \n",
    "into trouble. After missing school one day (and getting into a fight), \n",
    "Tom is punished with the task of whitewashing a fence. However, he turns\n",
    "the punishment into a bit of entertainment and tricks other boys to\n",
    "finish the work forhim. He convinces the boys that the chore is a great\n",
    "honor, so he receives small, precious objects in payment. Around this\n",
    "time,Tom falls in love with a young girl, Becky Thatcher. He suffers\n",
    "under a whirlwind romance and engagement to her before she shuns him \n",
    "after she hears of Tom's previous engagement to Amy Lawrence. He tries\n",
    "to win Becky back, but it doesn't go well. She refuses a gift he tries\n",
    "to give her. Humiliated, Tom runs off and dreams up a plan to run away.'''\n",
    "\n"
   ]
  },
  {
   "cell_type": "markdown",
   "metadata": {},
   "source": [
    "## Tokenization"
   ]
  },
  {
   "cell_type": "code",
   "execution_count": 3,
   "metadata": {},
   "outputs": [
    {
     "name": "stdout",
     "output_type": "stream",
     "text": [
      "The Tokenized statements are :  ['Tom Sawyer is a young boy living with his Aunt Polly\\non the banks of the Mississippi River.', 'He seems to mostenjoygetting \\ninto trouble.', 'After missing school one day (and getting into a fight), \\nTom is punished with the task of whitewashing a fence.', 'However, he turns\\nthe punishment into a bit of entertainment and tricks other boys to\\nfinish the work forhim.', 'He convinces the boys that the chore is a great\\nhonor, so he receives small, precious objects in payment.', 'Around this\\ntime,Tom falls in love with a young girl, Becky Thatcher.', \"He suffers\\nunder a whirlwind romance and engagement to her before she shuns him \\nafter she hears of Tom's previous engagement to Amy Lawrence.\", \"He tries\\nto win Becky back, but it doesn't go well.\", 'She refuses a gift he tries\\nto give her.', 'Humiliated, Tom runs off and dreams up a plan to run away.']\n",
      "The Tokenized Words are :  ['Tom', 'Sawyer', 'is', 'a', 'young', 'boy', 'living', 'with', 'his', 'Aunt', 'Polly', 'on', 'the', 'banks', 'of', 'the', 'Mississippi', 'River', '.', 'He', 'seems', 'to', 'mostenjoygetting', 'into', 'trouble', '.', 'After', 'missing', 'school', 'one', 'day', '(', 'and', 'getting', 'into', 'a', 'fight', ')', ',', 'Tom', 'is', 'punished', 'with', 'the', 'task', 'of', 'whitewashing', 'a', 'fence', '.', 'However', ',', 'he', 'turns', 'the', 'punishment', 'into', 'a', 'bit', 'of', 'entertainment', 'and', 'tricks', 'other', 'boys', 'to', 'finish', 'the', 'work', 'forhim', '.', 'He', 'convinces', 'the', 'boys', 'that', 'the', 'chore', 'is', 'a', 'great', 'honor', ',', 'so', 'he', 'receives', 'small', ',', 'precious', 'objects', 'in', 'payment', '.', 'Around', 'this', 'time', ',', 'Tom', 'falls', 'in', 'love', 'with', 'a', 'young', 'girl', ',', 'Becky', 'Thatcher', '.', 'He', 'suffers', 'under', 'a', 'whirlwind', 'romance', 'and', 'engagement', 'to', 'her', 'before', 'she', 'shuns', 'him', 'after', 'she', 'hears', 'of', 'Tom', \"'s\", 'previous', 'engagement', 'to', 'Amy', 'Lawrence', '.', 'He', 'tries', 'to', 'win', 'Becky', 'back', ',', 'but', 'it', 'does', \"n't\", 'go', 'well', '.', 'She', 'refuses', 'a', 'gift', 'he', 'tries', 'to', 'give', 'her', '.', 'Humiliated', ',', 'Tom', 'runs', 'off', 'and', 'dreams', 'up', 'a', 'plan', 'to', 'run', 'away', '.']\n",
      "Sampling  <FreqDist with 108 samples and 173 outcomes>\n",
      "The first 3 frequently used tokens are\n"
     ]
    },
    {
     "data": {
      "text/plain": [
       "[('.', 10), ('a', 9), (',', 8)]"
      ]
     },
     "execution_count": 3,
     "metadata": {},
     "output_type": "execute_result"
    }
   ],
   "source": [
    "tokenized_text=sent_tokenize(message_text)\n",
    "print('The Tokenized statements are : ',tokenized_text)\n",
    "tokenized_word=word_tokenize(message_text)\n",
    "print('The Tokenized Words are : ', tokenized_word)\n",
    "from nltk.probability import FreqDist\n",
    "fdist = FreqDist(tokenized_word)\n",
    "print('Sampling ', fdist)\n",
    "print('The first 3 frequently used tokens are')\n",
    "fdist.most_common(3)\n"
   ]
  },
  {
   "cell_type": "markdown",
   "metadata": {},
   "source": [
    "## Stemming"
   ]
  },
  {
   "cell_type": "code",
   "execution_count": 4,
   "metadata": {},
   "outputs": [
    {
     "name": "stdout",
     "output_type": "stream",
     "text": [
      "Tom Sawyer is a young boy living with his Aunt Polly\n",
      "on the banks of the Mississippi River. He seems to mostenjoygetting \n",
      "into trouble. After missing school one day (and getting into a fight), \n",
      "Tom is punished with the task of whitewashing a fence. However, he turns\n",
      "the punishment into a bit of entertainment and tricks other boys to\n",
      "finish the work forhim. He convinces the boys that the chore is a great\n",
      "honor, so he receives small, precious objects in payment. Around this\n",
      "time,Tom falls in love with a young girl, Becky Thatcher. He suffers\n",
      "under a whirlwind romance and engagement to her before she shuns him \n",
      "after she hears of Tom's previous engagement to Amy Lawrence. He tries\n",
      "to win Becky back, but it doesn't go well. She refuses a gift he tries\n",
      "to give her. Humiliated, Tom runs off and dreams up a plan to run away.\n"
     ]
    }
   ],
   "source": [
    "\n",
    "# next, we initialize VADER so we can use it within our Python script\n",
    "sid = SentimentIntensityAnalyzer()\n",
    "print(message_text)\n",
    "\n",
    "# Calling the polarity_scores method on sid and passing in the message_text outputs a dictionary with negative, neutral, positive, and compound scores for the input text\n",
    "scores = sid.polarity_scores(message_text)\n"
   ]
  },
  {
   "cell_type": "markdown",
   "metadata": {},
   "source": [
    "## Sentiment Class"
   ]
  },
  {
   "cell_type": "code",
   "execution_count": 5,
   "metadata": {},
   "outputs": [
    {
     "name": "stdout",
     "output_type": "stream",
     "text": [
      "compound: 0.9149, neg: 0.097, neu: 0.728, pos: 0.174, \n",
      " {'neg': 0.097, 'neu': 0.728, 'pos': 0.174, 'compound': 0.9149}\n"
     ]
    }
   ],
   "source": [
    "\n",
    "## Here we loop through the keys contained in scores (pos, neu, neg, and compound scores) and print the key-value pairs on the screen\n",
    "\n",
    "for key in sorted(scores):\n",
    "        print('{0}: {1}, '.format(key, scores[key]), end='')\n",
    "print(\"\\n\", scores)"
   ]
  }
 ],
 "metadata": {
  "kernelspec": {
   "display_name": "Python 3",
   "language": "python",
   "name": "python3"
  },
  "language_info": {
   "codemirror_mode": {
    "name": "ipython",
    "version": 3
   },
   "file_extension": ".py",
   "mimetype": "text/x-python",
   "name": "python",
   "nbconvert_exporter": "python",
   "pygments_lexer": "ipython3",
   "version": "3.7.6"
  }
 },
 "nbformat": 4,
 "nbformat_minor": 4
}
