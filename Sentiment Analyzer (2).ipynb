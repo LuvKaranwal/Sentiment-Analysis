{
 "cells": [
  {
   "cell_type": "markdown",
   "metadata": {},
   "source": [
    "# Sentiment Analysis for textual sentences and paragraph using Naive Bayes Classifier Model and applying Lemmatization technique to segregate the words and differentiate them according to their sentiment using nltk module"
   ]
  },
  {
   "cell_type": "markdown",
   "metadata": {},
   "source": [
    "## Loading and Importing libraries"
   ]
  },
  {
   "cell_type": "code",
   "execution_count": 1,
   "metadata": {},
   "outputs": [],
   "source": [
    "from nltk.classify import NaiveBayesClassifier\n",
    "import nltk.classify.util\n",
    "# from nltk.tokenize import sent_tokenize, word_tokenize\n",
    "from nltk.corpus import names"
   ]
  },
  {
   "cell_type": "markdown",
   "metadata": {},
   "source": [
    "## Defining a function to take the Lemmatized words and feed them in their respective feature list according to the lists of positive,neutral and negative vocab"
   ]
  },
  {
   "cell_type": "code",
   "execution_count": 2,
   "metadata": {},
   "outputs": [],
   "source": [
    "def word_feats(words):\n",
    "    return dict([(word, True) for word in words])\n",
    " \n",
    "positive_vocab = [ 'awesome', 'outstanding', 'fantastic', 'terrific', 'good', 'nice', 'great', ':)', 'honest', 'happy', 'wisdom', 'beautiful']\n",
    "negative_vocab = [ 'bad', 'terrible','useless', 'hate', ':(', 'treachery', 'sly', 'cunning', 'fake', 'hate', 'belittle', 'cruel', 'fight']\n",
    "neutral_vocab = [ 'movie','the','sound','was','is','actors','did','know','words','not' , 'yes', 'no', 'absolutelty', 'prepared','so']\n",
    "\n",
    "positive_features = [(word_feats(pos), 'pos') for pos in positive_vocab]\n",
    "negative_features = [(word_feats(neg), 'neg') for neg in negative_vocab]\n",
    "neutral_features = [(word_feats(neu), 'neu') for neu in neutral_vocab]\n"
   ]
  },
  {
   "cell_type": "markdown",
   "metadata": {},
   "source": [
    "## Input paragraph"
   ]
  },
  {
   "cell_type": "code",
   "execution_count": 3,
   "metadata": {},
   "outputs": [],
   "source": [
    "## Note: The input can be dynamic easily, if we use input() function to take in the text input\n",
    "message_text = ''' Tom Sawyer is a young boy living with his Aunt Polly\n",
    "on the banks of the Mississippi River. He seems to mostenjoygetting \n",
    "into trouble. After missing school one day (and getting into a fight), \n",
    "Tom is punished with the task of whitewashing a fence. However, he turns\n",
    "the punishment into a bit of entertainment and tricks other boys to\n",
    "finish the work forhim. He convinces the boys that the chore is a great\n",
    "honor, so he receives small, precious objects in payment. Around this\n",
    "time,Tom falls in love with a young girl, Becky Thatcher. He suffers\n",
    "under a whirlwind romance and engagement to her before she shuns him \n",
    "after she hears of Tom's previous engagement to Amy Lawrence. He tries\n",
    "to win Becky back, but it doesn't go well. She refuses a gift he tries\n",
    "to give her. Humiliated, Tom runs off and dreams up a plan to run away '''\n"
   ]
  },
  {
   "cell_type": "markdown",
   "metadata": {},
   "source": [
    "## Training Naive Bayes Classifier model on training dataset occupied by segregation and Lemmatization of words from paragraph "
   ]
  },
  {
   "cell_type": "code",
   "execution_count": 4,
   "metadata": {},
   "outputs": [],
   "source": [
    "train_set = negative_features + positive_features + neutral_features\n",
    "classifier = NaiveBayesClassifier.train(train_set) "
   ]
  },
  {
   "cell_type": "markdown",
   "metadata": {},
   "source": [
    "## Classifying the sentiment in paragraph by feeding data to the NB Classifier model"
   ]
  },
  {
   "cell_type": "code",
   "execution_count": 5,
   "metadata": {},
   "outputs": [],
   "source": [
    "# Predicting the sentiment by initializing contradictory varibles i.e neg and pos\n",
    "neg = 0\n",
    "pos = 0\n",
    "\n",
    "sentence = message_text.lower()\n",
    "words = sentence.split(' ')\n",
    "for word in words:\n",
    "    classResult = classifier.classify( word_feats(word))\n",
    "    if classResult == 'neg':\n",
    "        neg = neg + 1\n",
    "    if classResult == 'pos':\n",
    "        pos = pos + 1"
   ]
  },
  {
   "cell_type": "markdown",
   "metadata": {},
   "source": [
    "## Output of Sentiment Analysis on the paragraph"
   ]
  },
  {
   "cell_type": "code",
   "execution_count": 6,
   "metadata": {},
   "outputs": [
    {
     "name": "stdout",
     "output_type": "stream",
     "text": [
      "Positive: 😃 0.72\n",
      "Neutral: 😐 0.12\n",
      "Negative: 😞 0.17\n"
     ]
    }
   ],
   "source": [
    "positive =  (float(pos)/len(words))\n",
    "negative =  (float(neg)/len(words))\n",
    "neutral = 1- (positive + negative)\n",
    "        \n",
    "print('Positive: 😃', round(positive, 2))\n",
    "print('Neutral: 😐', round(neutral, 2))\n",
    "print('Negative: 😞',round(negative, 2))"
   ]
  }
 ],
 "metadata": {
  "kernelspec": {
   "display_name": "Python 3",
   "language": "python",
   "name": "python3"
  },
  "language_info": {
   "codemirror_mode": {
    "name": "ipython",
    "version": 3
   },
   "file_extension": ".py",
   "mimetype": "text/x-python",
   "name": "python",
   "nbconvert_exporter": "python",
   "pygments_lexer": "ipython3",
   "version": "3.7.6"
  }
 },
 "nbformat": 4,
 "nbformat_minor": 4
}
